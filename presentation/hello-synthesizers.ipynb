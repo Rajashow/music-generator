{
 "cells": [
  {
   "cell_type": "markdown",
   "metadata": {},
   "source": [
    "## Imports"
   ]
  },
  {
   "cell_type": "code",
   "execution_count": null,
   "metadata": {},
   "outputs": [],
   "source": [
    "%load_ext autoreload\n",
    "%autoreload 2"
   ]
  },
  {
   "cell_type": "code",
   "execution_count": null,
   "metadata": {},
   "outputs": [],
   "source": [
    "import keras\n",
    "from keras.optimizers import Adam\n",
    "from keras.layers import Input, GRU, Flatten, MaxPool2D, MaxPool1D\n",
    "from keras.layers import PReLU, Dropout, Lambda, Dense\n",
    "from keras.models import Model\n",
    "import tensorflow as tf\n",
    "from scipy.signal import stft\n",
    "\n",
    "from music_generator.basic.random import generate_dataset\n",
    "from music_generator.basic.signalproc import SamplingInfo\n",
    "from music_generator.musical.timing import Tempo\n",
    "from music_generator.musical.scales import GenericScale\n",
    "from music_generator.analysis.play import play_mono_as_stereo, play_array\n",
    "from music_generator.basic.signalproc import mix_at\n",
    "from music_generator.analysis import preprocessing\n",
    "\n",
    "from music_generator.musical import scales\n",
    "import numpy as np\n",
    "from multiprocessing import Pool\n",
    "from functools import partial\n",
    "\n",
    "import matplotlib.pyplot as plt\n",
    "from IPython.display import Audio\n",
    "%matplotlib inline\n",
    "import matplotlib\n",
    "\n",
    "from scipy.io.wavfile import read\n",
    "import pandas as pd"
   ]
  },
  {
   "cell_type": "code",
   "execution_count": null,
   "metadata": {},
   "outputs": [],
   "source": [
    "matplotlib.rcParams['figure.figsize'] = (16.0, 12.0)\n",
    "matplotlib.rcParams['lines.linewidth'] = 2\n",
    "matplotlib.rcParams['axes.linewidth'] = 1.5\n",
    "matplotlib.rcParams['font.size'] = 18\n",
    "matplotlib.rcParams['xtick.major.size'] = 5\n",
    "matplotlib.rcParams['xtick.major.width'] = 2\n",
    "matplotlib.rcParams['ytick.major.size'] = 5\n",
    "matplotlib.rcParams['ytick.major.width'] = 2\n",
    "matplotlib.rcParams['figure.figsize'] = (16.0, 8.0)"
   ]
  },
  {
   "cell_type": "markdown",
   "metadata": {},
   "source": [
    "## Load & show & play music"
   ]
  },
  {
   "cell_type": "code",
   "execution_count": null,
   "metadata": {},
   "outputs": [],
   "source": [
    "from scipy.io.wavfile import read"
   ]
  },
  {
   "cell_type": "code",
   "execution_count": null,
   "metadata": {},
   "outputs": [],
   "source": [
    "sr, data = read('../data/full-mix.wav')"
   ]
  },
  {
   "cell_type": "code",
   "execution_count": null,
   "metadata": {},
   "outputs": [],
   "source": [
    "data = pd.Series(data)\n",
    "data.index = data.index / sr\n",
    "data = data / 2**15 \n",
    "# data = data.set_index('time')"
   ]
  },
  {
   "cell_type": "code",
   "execution_count": null,
   "metadata": {},
   "outputs": [],
   "source": [
    "data.plot();"
   ]
  },
  {
   "cell_type": "code",
   "execution_count": null,
   "metadata": {},
   "outputs": [],
   "source": [
    "plt.plot(data.loc[40:50])\n",
    "Audio(data.loc[40:50].values, rate=sr)"
   ]
  },
  {
   "cell_type": "code",
   "execution_count": null,
   "metadata": {},
   "outputs": [],
   "source": [
    "plt.plot(data.loc[40:41])\n",
    "Audio(data.loc[40:41].values, rate=sr)"
   ]
  },
  {
   "cell_type": "code",
   "execution_count": null,
   "metadata": {},
   "outputs": [],
   "source": [
    "plt.plot(data.loc[40.8:41])\n",
    "Audio(data.loc[40.8:41].values, rate=sr)"
   ]
  },
  {
   "cell_type": "markdown",
   "metadata": {},
   "source": [
    "## Simple synthesizer: tone generation"
   ]
  },
  {
   "cell_type": "markdown",
   "metadata": {},
   "source": [
    "### Sine generator"
   ]
  },
  {
   "cell_type": "code",
   "execution_count": null,
   "metadata": {},
   "outputs": [],
   "source": [
    "generated = pd.DataFrame({'time': np.arange(0, 1, 1/sr)}).set_index('time')\n",
    "generated['sine'] = np.sin(generated.index * 440 * 2 * np.pi)"
   ]
  },
  {
   "cell_type": "code",
   "execution_count": null,
   "metadata": {},
   "outputs": [],
   "source": [
    "def plot_and_play(df, col_name):\n",
    "    fig, ax = plt.subplots(ncols=2)\n",
    "\n",
    "    plt.sca(ax[0])\n",
    "    plt.title('All data')\n",
    "    df[col_name].plot()\n",
    "\n",
    "    plt.sca(ax[1])\n",
    "    plt.title('Zoomed in')\n",
    "    df.loc[0:0.02][col_name].plot()\n",
    "    \n",
    "    plt.show()\n",
    "    \n",
    "    fig, ax = plt.subplots()\n",
    "    plt.title('Spectral')\n",
    "    f_vec, t_vec, Zxx = stft(df[col_name], sr, nperseg=2048, noverlap=2048 // 4)\n",
    "    plt.pcolormesh(t_vec, f_vec, np.abs(Zxx)) #, vmin=0, vmax=np.percentile(np.abs(Zxx), 99))\n",
    "    # plt.title('STFT Magnitude')\n",
    "    plt.ylabel('Frequency [Hz]')\n",
    "    plt.xlabel('Time [sec]')\n",
    "    plt.ylim([0, 5000])\n",
    "    \n",
    "    plt.show()\n",
    "\n",
    "    return Audio(df[col_name], rate=sr)"
   ]
  },
  {
   "cell_type": "code",
   "execution_count": null,
   "metadata": {},
   "outputs": [],
   "source": [
    "plot_and_play(generated, 'sine')"
   ]
  },
  {
   "cell_type": "markdown",
   "metadata": {},
   "source": [
    "### Envelope"
   ]
  },
  {
   "cell_type": "code",
   "execution_count": null,
   "metadata": {},
   "outputs": [],
   "source": [
    "dr = 0.2\n",
    "generated['decay_envelope'] = np.exp(-generated.index / dr)\n",
    "generated['decay_sine'] = generated['sine'] * generated['decay_envelope']"
   ]
  },
  {
   "cell_type": "code",
   "execution_count": null,
   "metadata": {},
   "outputs": [],
   "source": [
    "plot_and_play(generated, 'decay_sine')"
   ]
  },
  {
   "cell_type": "markdown",
   "metadata": {},
   "source": [
    "### Additive synthesis"
   ]
  },
  {
   "cell_type": "code",
   "execution_count": null,
   "metadata": {},
   "outputs": [],
   "source": [
    "def additive_synthesis(t, amps, freqs):\n",
    "    return np.sum([amp * np.sin(t * freq * 2 * np.pi) for amp, freq in zip(amps, freqs)], axis=0)"
   ]
  },
  {
   "cell_type": "code",
   "execution_count": null,
   "metadata": {},
   "outputs": [],
   "source": [
    "dr = 0.2\n",
    "\n",
    "amps = [1, -0.3, 0.1, -0.1, 0.4, 0.01, -0.2]\n",
    "freqs = [440, 2*440, 3*440, 4*440, 5*440, 6*440, 7*440]\n",
    "\n",
    "generated['additive'] = additive_synthesis(generated.index, amps, freqs)\n",
    "generated['additive_decay'] = generated['additive'] * generated['decay_envelope']"
   ]
  },
  {
   "cell_type": "code",
   "execution_count": null,
   "metadata": {},
   "outputs": [],
   "source": [
    "plot_and_play(generated, 'additive')"
   ]
  },
  {
   "cell_type": "code",
   "execution_count": null,
   "metadata": {},
   "outputs": [],
   "source": [
    "plot_and_play(generated, 'additive_decay')"
   ]
  },
  {
   "cell_type": "markdown",
   "metadata": {},
   "source": [
    "### Drums"
   ]
  },
  {
   "cell_type": "code",
   "execution_count": null,
   "metadata": {},
   "outputs": [],
   "source": [
    "generated['kick'] = np.sin( (1 / (generated.index + 0.1) + 30 ) * 2 * np.pi)\n",
    "generated['kick'] *= np.exp(-generated.index / 0.4)\n",
    "plot_and_play(generated, 'kick')"
   ]
  },
  {
   "cell_type": "markdown",
   "metadata": {},
   "source": [
    "### Snare"
   ]
  },
  {
   "cell_type": "code",
   "execution_count": null,
   "metadata": {},
   "outputs": [],
   "source": [
    "generated['noise'] = np.random.uniform(low=-1, high=1, size=generated.index.shape)\n",
    "plot_and_play(generated, 'noise')"
   ]
  },
  {
   "cell_type": "code",
   "execution_count": null,
   "metadata": {},
   "outputs": [],
   "source": [
    "generated['short_decay'] = np.exp(-generated.index / 0.05)\n",
    "generated['snare_base'] = np.sin( (1 / (generated.index + 0.1) + 30 ) * 4 * np.pi) * np.exp(-generated.index / 0.4)\n",
    "generated['snare'] = generated['snare_base'] + generated['noise'] * generated['short_decay']\n",
    "plot_and_play(generated, 'snare')"
   ]
  },
  {
   "cell_type": "markdown",
   "metadata": {},
   "source": [
    "### Subtractive synthesis"
   ]
  },
  {
   "cell_type": "code",
   "execution_count": null,
   "metadata": {},
   "outputs": [],
   "source": [
    "generated['square'] = np.sign(np.sin(generated.index * 440 * 4)) * generated['decay_envelope']\n",
    "plot_and_play(generated, 'square')"
   ]
  },
  {
   "cell_type": "code",
   "execution_count": null,
   "metadata": {},
   "outputs": [],
   "source": [
    "from music_generator.basic.signalproc import apply_filter"
   ]
  },
  {
   "cell_type": "code",
   "execution_count": null,
   "metadata": {},
   "outputs": [],
   "source": [
    "generated['filtered_square'] = apply_filter(generated['square'].values, SamplingInfo(sr), 3000, order=5, type='lowpass')"
   ]
  },
  {
   "cell_type": "code",
   "execution_count": null,
   "metadata": {},
   "outputs": [],
   "source": [
    "plot_and_play(generated, 'filtered_square')"
   ]
  },
  {
   "cell_type": "code",
   "execution_count": null,
   "metadata": {},
   "outputs": [],
   "source": []
  }
 ],
 "metadata": {
  "kernelspec": {
   "display_name": "Python 3",
   "language": "python",
   "name": "python3"
  },
  "language_info": {
   "codemirror_mode": {
    "name": "ipython",
    "version": 3
   },
   "file_extension": ".py",
   "mimetype": "text/x-python",
   "name": "python",
   "nbconvert_exporter": "python",
   "pygments_lexer": "ipython3",
   "version": "3.6.6"
  }
 },
 "nbformat": 4,
 "nbformat_minor": 2
}
