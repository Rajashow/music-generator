{
 "cells": [
  {
   "cell_type": "code",
   "execution_count": null,
   "metadata": {},
   "outputs": [],
   "source": [
    "from music_generator.synthesizer.oscillators import SineOscillator\n",
    "from music_generator.basic.signalproc import SamplingInfo\n",
    "import numpy as np\n",
    "from multiprocessing import Pool\n",
    "from keras.layers import Dense, Input, Lambda\n",
    "from keras.models import Model\n",
    "import keras.backend as K\n",
    "from scipy.stats import norm\n",
    "import matplotlib.pyplot as plt\n",
    "%matplotlib inline\n",
    "\n",
    "import plotly.graph_objs as go\n",
    "from plotly.offline import init_notebook_mode, iplot\n",
    "init_notebook_mode(connected=True)\n",
    "from music_generator.analysis.play import play_array\n",
    "\n",
    "from torch.utils.data import TensorDataset\n",
    "from torch.utils.data import DataLoader\n",
    "import sys\n",
    "\n",
    "import torch\n",
    "import torch.nn as nn\n",
    "import torch.nn.functional as F\n",
    "import torch.optim as optim"
   ]
  },
  {
   "cell_type": "code",
   "execution_count": null,
   "metadata": {},
   "outputs": [],
   "source": [
    "sampling_info = SamplingInfo(44100)\n",
    "osc = SineOscillator(sampling_info)"
   ]
  },
  {
   "cell_type": "code",
   "execution_count": null,
   "metadata": {},
   "outputs": [],
   "source": [
    "n_timesteps = 1024\n",
    "time = n_timesteps / 44100\n",
    "n_samples = 100000"
   ]
  },
  {
   "cell_type": "code",
   "execution_count": null,
   "metadata": {},
   "outputs": [],
   "source": [
    "def generate_wave_packet(time, amp, freq, phase, location, sigma):\n",
    "    tone = np.sin(np.arange(n_timesteps) * freq / 44100 * 2 * np.pi + phase)  # osc.generate(1, time, freq, phase)\n",
    "    envelope = norm.pdf(np.arange(n_timesteps), loc=location, scale=sigma)\n",
    "    envelope = envelope / (np.max(envelope) * amp)\n",
    "    return tone * envelope "
   ]
  },
  {
   "cell_type": "code",
   "execution_count": null,
   "metadata": {},
   "outputs": [],
   "source": [
    "def generate_sample(ii):\n",
    "    n_freqs = np.random.randint(1, 16)\n",
    "    amps = np.random.uniform(0.2, 1, size=n_freqs)\n",
    "    freqs = np.random.uniform(0, sampling_info.nyquist / 16, size=n_freqs)\n",
    "    locs = np.random.uniform(0, n_timesteps, size=n_freqs)\n",
    "    sigmas = np.random.uniform(10, n_timesteps * 5, size=n_freqs)    \n",
    "    phases1 = np.random.uniform(0, 2*np.pi, size=n_freqs)\n",
    "    phases2 = np.random.uniform(0, 2*np.pi, size=n_freqs)\n",
    "    x = np.array([generate_wave_packet(time, amp, freq, phase, location, sigma) \n",
    "                  for amp, freq, phase, location, sigma in zip(amps, freqs, phases1, locs, sigmas)]).sum(axis=0)\n",
    "    y = np.array([generate_wave_packet(time, amp, freq, phase, location, sigma) \n",
    "                  for amp, freq, phase, location, sigma in zip(amps, freqs, phases2, locs, sigmas)]).sum(axis=0)\n",
    "    return np.array([x, y]).T.reshape(-1, 2)"
   ]
  },
  {
   "cell_type": "code",
   "execution_count": null,
   "metadata": {},
   "outputs": [],
   "source": [
    "with Pool(8) as pool:\n",
    "    x_train = np.array(pool.map(generate_sample, range(n_samples)))"
   ]
  },
  {
   "cell_type": "markdown",
   "metadata": {},
   "source": [
    "## Inspect training set"
   ]
  },
  {
   "cell_type": "code",
   "execution_count": null,
   "metadata": {},
   "outputs": [],
   "source": [
    "# plt.figure(figsize=[16, 8])\n",
    "# plt.plot(x_train[index, :, 0])\n",
    "# plt.plot(x_train[index, :, 1])\n",
    "# plt.show()\n",
    "\n",
    "# # index = 0\n",
    "\n",
    "# index += 1\n",
    "# play_array(np.repeat(x_train[index, :, 0].reshape(1, -1), 1, axis=0).reshape(-1))\n",
    "# play_array(np.repeat(x_train[index, :, 1].reshape(1, -1), 1, axis=0).reshape(-1))"
   ]
  },
  {
   "cell_type": "markdown",
   "metadata": {},
   "source": [
    "## Build model"
   ]
  },
  {
   "cell_type": "code",
   "execution_count": null,
   "metadata": {},
   "outputs": [],
   "source": [
    "class Model(nn.Module):\n",
    "    def __init__(self, n_timesteps):\n",
    "        super(Model, self).__init__()\n",
    "        self.transform_0 = nn.Linear(in_features=n_timesteps, out_features=n_timesteps//2)\n",
    "        self.transform_1 = nn.Linear(in_features=n_timesteps, out_features=n_timesteps//2)\n",
    "        \n",
    "    def forward(self, x):\n",
    "        t0 = self.transform_0(x[:, :, 0])\n",
    "        t1 = self.transform_1(x[:, :, 1])\n",
    "        return t1 - t0"
   ]
  },
  {
   "cell_type": "code",
   "execution_count": null,
   "metadata": {},
   "outputs": [],
   "source": [
    "model = Model(n_timesteps)\n",
    "loss = nn.MSELoss()\n",
    "optimizer = optim.Adam(model.parameters())"
   ]
  },
  {
   "cell_type": "code",
   "execution_count": null,
   "metadata": {},
   "outputs": [],
   "source": [
    "class MyDataSet(TensorDataset):\n",
    "    def __init__(self, x, y):\n",
    "        self.xt = torch.from_numpy(x).float()\n",
    "        self.yt = torch.from_numpy(y).float()\n",
    "        super(MyDataSet, self).__init__(self.xt, self.yt)\n",
    "        \n",
    "my_ds = MyDataSet(x_train, x_train)\n",
    "dl = DataLoader(my_ds, batch_size=32, shuffle=True, drop_last=True)"
   ]
  },
  {
   "cell_type": "code",
   "execution_count": null,
   "metadata": {},
   "outputs": [],
   "source": []
  },
  {
   "cell_type": "code",
   "execution_count": null,
   "metadata": {},
   "outputs": [],
   "source": [
    "from progressbar import progressbar"
   ]
  },
  {
   "cell_type": "code",
   "execution_count": null,
   "metadata": {},
   "outputs": [],
   "source": [
    "for epoch in range(10):\n",
    "    for x, x in progressbar(dl):\n",
    "        model.zero_grad()\n",
    "        py = model.forward(x)\n",
    "        l = loss(py, torch.zeros_like(py))\n",
    "#         sys.stdout.write(f'\\r Epoch {epoch}: {l}')\n",
    "#         sys.stdout.flush()\n",
    "        l.backward()\n",
    "        optimizer.step()\n",
    "    print(f'{l}')"
   ]
  },
  {
   "cell_type": "code",
   "execution_count": null,
   "metadata": {},
   "outputs": [],
   "source": [
    "transform_0(x_0) - transform_1(x_1)"
   ]
  },
  {
   "cell_type": "code",
   "execution_count": null,
   "metadata": {},
   "outputs": [],
   "source": [
    "# inp = Input(shape=(x_train[0].shape[0], 2))\n",
    "\n",
    "# inp0 = Lambda(lambda x: x[:, :, 0])(inp)\n",
    "# inp1 = Lambda(lambda x: x[:, :, 1])(inp)\n",
    "\n",
    "# inp_transform0 = Dense(512, use_bias=True)\n",
    "# inp_transform1 = Dense(512, use_bias=True)\n",
    "\n",
    "# freq_space0 = inp_transform0(inp0)\n",
    "# freq_space1 = inp_transform1(inp1)\n",
    "\n",
    "# reco_layer = Dense(x_train[0].shape[0])\n",
    "# reco = reco_layer(freq_space0)\n",
    "\n",
    "# def delta(args):\n",
    "#     freq_space0, freq_space1 = args\n",
    "#     return freq_space0 - freq_space1\n",
    "\n",
    "# delta_layer = Lambda(delta, output_shape=(512,))([freq_space0, freq_space1])\n",
    "\n",
    "# def my_loss(y_true, y_pred):\n",
    "#     reco_true = y_true\n",
    "#     pred_delta_layer, pred_output = delta_layer, y_pred\n",
    "#     mse_hidden = K.mean(K.square(pred_delta_layer))\n",
    "#     mse_reco = K.mean(K.square(pred_output - reco_true))\n",
    "#     return mse_hidden + mse_reco\n",
    "\n",
    "# model = Model(inp, outputs=[delta_layer, reco])\n",
    "# model.summary()\n",
    "# model.compile('Adam', 'mse')"
   ]
  },
  {
   "cell_type": "code",
   "execution_count": null,
   "metadata": {},
   "outputs": [],
   "source": [
    "inp_ae = Input(shape=(x_train[0].shape[0],))\n",
    "transformed_ae = inp_transform0(inp_ae)\n",
    "reconstructed_ae = reco_layer(transformed_ae)\n",
    "ae_model = Model(inp_ae, reconstructed_ae)"
   ]
  },
  {
   "cell_type": "code",
   "execution_count": null,
   "metadata": {},
   "outputs": [],
   "source": [
    "model.fit(x_train, [np.zeros(shape=(len(x_train), 512)), x_train[:, :, 0]], epochs=15, batch_size=1024)"
   ]
  },
  {
   "cell_type": "markdown",
   "metadata": {},
   "source": [
    "$$h_i = \\sum_j W_{ij} x_j + b_i$$\n",
    "\n",
    "$$x_j = \\sum_i \\tilde{W}_{ij}(h_i - b_i)$$"
   ]
  },
  {
   "cell_type": "code",
   "execution_count": null,
   "metadata": {},
   "outputs": [],
   "source": [
    "model.save(\"freq_loss\")"
   ]
  },
  {
   "cell_type": "code",
   "execution_count": null,
   "metadata": {},
   "outputs": [],
   "source": []
  },
  {
   "cell_type": "code",
   "execution_count": null,
   "metadata": {},
   "outputs": [],
   "source": [
    "x_inp = osc.generate(1, time, 880, 0).reshape(1, -1)\n",
    "x_inp.reshape(-1)\n",
    "y = ae_model.predict(x_inp)\n",
    "plt.figure(figsize=[16,8])\n",
    "plt.plot(y.reshape(-1), alpha=0.4)\n",
    "plt.plot(x_inp.reshape(-1), alpha=0.4)"
   ]
  },
  {
   "cell_type": "markdown",
   "metadata": {},
   "source": [
    "## Pseudo-inverse"
   ]
  },
  {
   "cell_type": "code",
   "execution_count": null,
   "metadata": {},
   "outputs": [],
   "source": [
    "# activation = np.dot(W[0].T, x_inp) + W[1]\n",
    "# W_inv = np.linalg.pinv(W[0].T)\n",
    "# x = np.dot(W_inv, (activation - W[1]))\n",
    "# plt.figure(figsize=[16,8])\n",
    "# plt.plot(x, alpha=0.4)\n",
    "# plt.plot(x_inp, alpha=0.4)"
   ]
  },
  {
   "cell_type": "code",
   "execution_count": null,
   "metadata": {},
   "outputs": [],
   "source": []
  },
  {
   "cell_type": "code",
   "execution_count": null,
   "metadata": {},
   "outputs": [],
   "source": []
  }
 ],
 "metadata": {
  "kernelspec": {
   "display_name": "Python 3",
   "language": "python",
   "name": "python3"
  },
  "language_info": {
   "codemirror_mode": {
    "name": "ipython",
    "version": 3
   },
   "file_extension": ".py",
   "mimetype": "text/x-python",
   "name": "python",
   "nbconvert_exporter": "python",
   "pygments_lexer": "ipython3",
   "version": "3.6.2"
  }
 },
 "nbformat": 4,
 "nbformat_minor": 2
}
