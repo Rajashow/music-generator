{
 "cells": [
  {
   "cell_type": "code",
   "execution_count": null,
   "metadata": {},
   "outputs": [],
   "source": [
    "# HIDE\n",
    "import  matplotlib.pyplot as plt\n",
    "import numpy as np\n",
    "\n",
    "import pandas as pd\n",
    "import torch\n",
    "import torch.nn as nn\n",
    "import torch.nn.functional as F\n",
    "import torch.optim as optim\n",
    "from IPython import display\n",
    "from sklearn import metrics\n",
    "from sklearn.model_selection import train_test_split\n",
    "from sklearn.preprocessing import StandardScaler\n",
    "from sklearn.utils.class_weight import compute_class_weight\n",
    "from torch.utils.data import TensorDataset\n",
    "from torch.utils.data import DataLoader\n",
    "from progressbar import progressbar\n",
    "import sys"
   ]
  },
  {
   "cell_type": "code",
   "execution_count": null,
   "metadata": {},
   "outputs": [],
   "source": [
    "x = np.random.uniform(size=(10000, 10))\n",
    "y = x\n",
    "# y = np.random.normal(x, 0.1, size=(100000, 1))"
   ]
  },
  {
   "cell_type": "code",
   "execution_count": null,
   "metadata": {},
   "outputs": [],
   "source": []
  },
  {
   "cell_type": "code",
   "execution_count": null,
   "metadata": {},
   "outputs": [],
   "source": []
  },
  {
   "cell_type": "code",
   "execution_count": null,
   "metadata": {},
   "outputs": [],
   "source": []
  },
  {
   "cell_type": "code",
   "execution_count": null,
   "metadata": {},
   "outputs": [],
   "source": [
    "class MyDataSet(TensorDataset):\n",
    "    def __init__(self, x, y):\n",
    "        self.xt = torch.from_numpy(x).float()\n",
    "        self.yt = torch.from_numpy(y).float()\n",
    "        super(MyDataSet, self).__init__(self.xt, self.yt)\n",
    "        \n",
    "my_ds = MyDataSet(x, y)\n",
    "dl = DataLoader(my_ds, batch_size=32, shuffle=True, drop_last=True)"
   ]
  },
  {
   "cell_type": "code",
   "execution_count": null,
   "metadata": {},
   "outputs": [],
   "source": [
    "my_ds.xt "
   ]
  },
  {
   "cell_type": "code",
   "execution_count": null,
   "metadata": {},
   "outputs": [],
   "source": [
    "for n_hidden in [1, 4, 6, 8, 9]:\n",
    "    \n",
    "    print(f'\\nn_hidden = {n_hidden}')\n",
    "    reg = nn.Sequential(nn.Linear(x.shape[1], n_hidden),\n",
    "                        nn.Linear(n_hidden, x.shape[1]))\n",
    "    loss = nn.MSELoss()\n",
    "    optimizer = optim.Adam(reg.parameters())    \n",
    "    \n",
    "    for epoch in range(10):\n",
    "        for x, y in dl:\n",
    "            reg.zero_grad()\n",
    "            py = reg(x)\n",
    "            l = loss(py, y)\n",
    "            sys.stdout.write(f'\\r Epoch {epoch}: {l}')\n",
    "            sys.stdout.flush()\n",
    "            l.backward()\n",
    "            optimizer.step()\n",
    "\n",
    "    pd.Series(torch.mean((reg(my_ds.xt) - my_ds.yt)**2, dim=1).detach().numpy()).hist(bins=100, alpha=0.3, label=f'{n_hidden}')\n",
    "    \n",
    "plt.legend()"
   ]
  },
  {
   "cell_type": "code",
   "execution_count": null,
   "metadata": {},
   "outputs": [],
   "source": []
  },
  {
   "cell_type": "code",
   "execution_count": null,
   "metadata": {},
   "outputs": [],
   "source": []
  }
 ],
 "metadata": {
  "kernelspec": {
   "display_name": "Python 3",
   "language": "python",
   "name": "python3"
  },
  "language_info": {
   "codemirror_mode": {
    "name": "ipython",
    "version": 3
   },
   "file_extension": ".py",
   "mimetype": "text/x-python",
   "name": "python",
   "nbconvert_exporter": "python",
   "pygments_lexer": "ipython3",
   "version": "3.6.2"
  }
 },
 "nbformat": 4,
 "nbformat_minor": 2
}
