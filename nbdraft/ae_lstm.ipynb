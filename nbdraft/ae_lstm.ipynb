{
 "cells": [
  {
   "cell_type": "code",
   "execution_count": null,
   "metadata": {},
   "outputs": [],
   "source": [
    "%load_ext autoreload\n",
    "%autoreload 2"
   ]
  },
  {
   "cell_type": "code",
   "execution_count": null,
   "metadata": {},
   "outputs": [],
   "source": [
    "import numpy as np\n",
    "import datetime as dt\n",
    "\n",
    "import music_generator.analysis.preprocessing as pp\n",
    "from music_generator.analysis.play import play_array\n",
    "\n",
    "import music_generator.analysis.stft as stft"
   ]
  },
  {
   "cell_type": "code",
   "execution_count": null,
   "metadata": {},
   "outputs": [],
   "source": [
    "# https://blog.keras.io/building-autoencoders-in-keras.html\n",
    "\n",
    "import keras\n",
    "\n",
    "from keras.layers import Dense, Dropout, PReLU, Input\n",
    "from keras.models import Model\n",
    "from keras.optimizers import Adam\n",
    "\n",
    "from keras.regularizers import l2\n",
    "from keras.models import load_model\n",
    "\n",
    "import numpy as np\n",
    "import matplotlib.pyplot as plt\n",
    "from scipy.stats import norm\n",
    "\n",
    "from keras.layers import Input, Dense, Lambda\n",
    "from keras.models import Model, Sequential\n",
    "from keras import backend as K\n",
    "from keras import metrics\n",
    "from keras.datasets import mnist, fashion_mnist\n",
    "from sklearn.preprocessing import MinMaxScaler\n",
    "\n",
    "from keras.layers import LSTM, Lambda"
   ]
  },
  {
   "cell_type": "code",
   "execution_count": null,
   "metadata": {},
   "outputs": [],
   "source": [
    "window = 1024\n",
    "lstm_dim = 64\n",
    "latent_dim = 2\n",
    "batch_size = 32"
   ]
  },
  {
   "cell_type": "code",
   "execution_count": null,
   "metadata": {},
   "outputs": [],
   "source": [
    "# sampling_rate, data = pp.read_wave_file(\"../data/Verplichte Kots_v9.wav\", 0)\n",
    "sampling_rate, data = pp.read_wave_file(\"../data/Dream Theater - Another day-fm7ntyycGbU.wav\", 0)\n",
    "# play_array(data, sampling_rate, range_secs=[17, 31])\n",
    "# data = data[15*44100:29*44100]"
   ]
  },
  {
   "cell_type": "code",
   "execution_count": null,
   "metadata": {},
   "outputs": [],
   "source": [
    "x_train = pp.create_batches(data, window, window)\n",
    "x_train = np.array(x_train)\n",
    "x_train = x_train.reshape(-1, window, 1)\n",
    "x_train = x_train[0:(len(x_train) // batch_size) * batch_size]"
   ]
  },
  {
   "cell_type": "code",
   "execution_count": null,
   "metadata": {},
   "outputs": [],
   "source": [
    "def sampling(args):\n",
    "    z_mean, z_log_var = args\n",
    "    noise = K.random_normal(shape=(K.shape(z_mean)[0], latent_dim))\n",
    "    return z_mean + K.exp(z_log_var / 2) * noise"
   ]
  },
  {
   "cell_type": "code",
   "execution_count": null,
   "metadata": {},
   "outputs": [],
   "source": [
    "from keras.models import load_model"
   ]
  },
  {
   "cell_type": "code",
   "execution_count": null,
   "metadata": {},
   "outputs": [],
   "source": [
    "# time-frequency model\n",
    "tf_model = load_model('freq_loss')"
   ]
  },
  {
   "cell_type": "code",
   "execution_count": null,
   "metadata": {},
   "outputs": [],
   "source": [
    "tf_model.layers.pop()\n",
    "tf_model.trainable = False\n",
    "tf_model.compile('Adam', 'mse')"
   ]
  },
  {
   "cell_type": "code",
   "execution_count": null,
   "metadata": {},
   "outputs": [],
   "source": [
    "def custom_loss(y_true, y_pred):\n",
    "#     xent_loss = original_dim * metrics.binary_crossentropy(x, x_decoded_mean)\n",
    "#     mse_loss = window * metrics.mse(y_true, y_pred)\n",
    "#     kl_loss = -0.5 * K.sum(1 + z_log_var - K.square(z_mean) - K.exp(z_log_var), axis=-1)\n",
    "#     vae_loss = K.mean(mse_loss + 0.001 * kl_loss)\n",
    "#     print(f\"{y_true.shape}\")\n",
    "    \n",
    "    inp_out = K.concatenate([y_true, y_pred], axis=-1)\n",
    "    \n",
    "    if str(tf_model.input.shape[0]) == '?':\n",
    "        return K.mean(K.square(tf_model.predict(K.eval(inp_out))[0]))\n",
    "    else:\n",
    "        return K.mean(K.square(tf_model.predict(K.eval(inp_out))[0]))\n",
    "    \n",
    "#     return "
   ]
  },
  {
   "cell_type": "code",
   "execution_count": null,
   "metadata": {},
   "outputs": [],
   "source": [
    "tf_model.input.op.values #  K.zeros(shape=[32, 1024, 2])\n",
    "# tf_model.output"
   ]
  },
  {
   "cell_type": "code",
   "execution_count": null,
   "metadata": {},
   "outputs": [],
   "source": [
    "inp = Input(batch_shape=(batch_size, window, 1))\n",
    "lstm = LSTM(lstm_dim, \n",
    "            stateful=True, \n",
    "            return_sequences=False,\n",
    "            batch_input_shape=(batch_size, window, 1))(inp)\n",
    "\n",
    "inter = Dense(lstm_dim, activation='relu')(lstm)\n",
    "# inter = lstm\n",
    "\n",
    "z_mean = Dense(latent_dim)(inter)\n",
    "z_log_var = Dense(latent_dim)(inter)\n",
    "z_sampled = Lambda(sampling, (latent_dim,))([z_mean, z_log_var])\n",
    "\n",
    "decoder = Dense(512, activation='relu')\n",
    "decoder_mean = Dense(window, activation='linear')\n",
    "\n",
    "decoded = decoder(z_sampled)\n",
    "# decoded = z_sampled\n",
    "\n",
    "\n",
    "\n",
    "\n",
    "model = Model(inp, loss)\n",
    "\n",
    "model.summary()\n",
    "# model.compile('adam', loss='mse')\n"
   ]
  },
  {
   "cell_type": "code",
   "execution_count": null,
   "metadata": {},
   "outputs": [],
   "source": [
    "ii = 0\n",
    "while True:\n",
    "    model.fit(x_train, x_train.reshape(-1, window), epochs=30, batch_size=batch_size, verbose=1)\n",
    "    print(\"Storing to file...\")\n",
    "    y_pred = model.predict(x_train)\n",
    "    # result = pp.batches_to_array(y_pred, window)\n",
    "    result = y_pred.reshape(-1)\n",
    "    pp.store_wave_file(f'temp_{ii}.wav', 44100, result)    \n",
    "    ii += 1"
   ]
  },
  {
   "cell_type": "markdown",
   "metadata": {},
   "source": [
    "# Deep & heavy model"
   ]
  },
  {
   "cell_type": "code",
   "execution_count": null,
   "metadata": {},
   "outputs": [],
   "source": [
    "encoder = Model(inp, z_mean)\n"
   ]
  },
  {
   "cell_type": "code",
   "execution_count": null,
   "metadata": {},
   "outputs": [],
   "source": [
    "x_encoded = encoder.predict(x_train)"
   ]
  },
  {
   "cell_type": "code",
   "execution_count": null,
   "metadata": {},
   "outputs": [],
   "source": [
    "x_encoded_backup = x_encoded.copy()"
   ]
  },
  {
   "cell_type": "code",
   "execution_count": null,
   "metadata": {},
   "outputs": [],
   "source": [
    "import plotly.graph_objs as go\n",
    "from plotly.offline import download_plotlyjs, init_notebook_mode, plot, iplot\n",
    "init_notebook_mode(connected=True)"
   ]
  },
  {
   "cell_type": "code",
   "execution_count": null,
   "metadata": {},
   "outputs": [],
   "source": [
    "x_encoded = x_encoded_backup[2000:3000]\n",
    "\n",
    "trace = [go.Scatter3d(x=x_encoded[:, 0], \n",
    "                      y=x_encoded[:, 1], \n",
    "                      z=np.arange(len(x_encoded)),\n",
    "                      mode='line',\n",
    "                        marker=dict(\n",
    "                            size=3,\n",
    "                            color=np.arange(len(x_encoded)),                # set color to an array/list of desired values\n",
    "                            colorscale='Viridis',   # choose a colorscale\n",
    "                            opacity=0.8\n",
    "                        ))]\n",
    "\n",
    "fig = go.Figure(data=trace, layout=go.Layout(height=800, width=1000))\n",
    "iplot(fig)"
   ]
  },
  {
   "cell_type": "code",
   "execution_count": null,
   "metadata": {},
   "outputs": [],
   "source": [
    "# inp = Input(shape=(window, 1))\n",
    "# lstm = LSTM(128, return_sequences=False)(inp)\n",
    "# inter = Dense(64, activation='relu')(lstm)\n",
    "# inter = Dense(16, activation='relu')(inter)\n",
    "# inter = Dense(2, activation='relu')(inter)\n",
    "# inter = Dense(16, activation='relu')(inter)\n",
    "# inter = Dense(64, activation='relu')(inter)\n",
    "# out = Dense(window, activation='linear')(inter)\n",
    "\n",
    "# model = Model(inp, out)\n",
    "# model.compile('adam', 'mse')\n",
    "# model.summary()"
   ]
  }
 ],
 "metadata": {
  "kernelspec": {
   "display_name": "Python 3",
   "language": "python",
   "name": "python3"
  },
  "language_info": {
   "codemirror_mode": {
    "name": "ipython",
    "version": 3
   },
   "file_extension": ".py",
   "mimetype": "text/x-python",
   "name": "python",
   "nbconvert_exporter": "python",
   "pygments_lexer": "ipython3",
   "version": "3.6.2"
  }
 },
 "nbformat": 4,
 "nbformat_minor": 2
}
