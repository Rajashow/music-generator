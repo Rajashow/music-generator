{
 "cells": [
  {
   "cell_type": "code",
   "execution_count": null,
   "metadata": {},
   "outputs": [],
   "source": [
    "%load_ext autoreload\n",
    "%autoreload 2"
   ]
  },
  {
   "cell_type": "code",
   "execution_count": null,
   "metadata": {},
   "outputs": [],
   "source": [
    "import keras\n",
    "from music_generator.basic.random import generate_dataset\n",
    "from music_generator.basic.signalproc import SamplingInfo\n",
    "from music_generator.musical.timing import Tempo\n",
    "from music_generator.musical.scales import GenericScale\n",
    "from music_generator.analysis.play import play_mono_as_stereo, play_array\n",
    "from music_generator.basic.signalproc import mix_at\n",
    "from music_generator.analysis.preprocessing import decoder_predict\n",
    "from music_generator.analysis.preprocessing import apply_fourier_on_input\n",
    "from music_generator.basic.utils import parallel_apply_along_axis\n",
    "from music_generator.analysis.preprocessing import create_training_data_set, model_predict, apply_fourier_on_dataset\n",
    "\n",
    "from scipy.io.wavfile import read\n",
    "from scipy.fftpack import rfft, irfft\n",
    "\n",
    "import numpy as np\n",
    "import datetime as dt\n",
    "\n",
    "import matplotlib.pyplot as plt\n",
    "%matplotlib inline"
   ]
  },
  {
   "cell_type": "code",
   "execution_count": null,
   "metadata": {},
   "outputs": [],
   "source": [
    "def read_file(filename):\n",
    "    x = read(filename)\n",
    "    return x[1][:, 0] / 2**15"
   ]
  },
  {
   "cell_type": "code",
   "execution_count": null,
   "metadata": {},
   "outputs": [],
   "source": [
    "bt_0 = read_file(\"../data/Verplichte Kots_v9.wav\")\n",
    "tot_0 = read_file(\"../data/Verplichte Kots_v9.wav\")"
   ]
  },
  {
   "cell_type": "code",
   "execution_count": null,
   "metadata": {},
   "outputs": [],
   "source": [
    "# play_array(bt_0, range_secs=[20, 24], sample_rate=48000)\n",
    "# play_array(tot_0, range_secs=[20, 24], sample_rate=48000)"
   ]
  },
  {
   "cell_type": "code",
   "execution_count": null,
   "metadata": {},
   "outputs": [],
   "source": [
    "rel_offset = int(3.135*44100)\n",
    "x = bt_0[:10*44100 - rel_offset] - tot_0[rel_offset:10*44100]\n",
    "#play_array(x, range_secs=[0,4])"
   ]
  },
  {
   "cell_type": "markdown",
   "metadata": {},
   "source": [
    "## Make selection in song"
   ]
  },
  {
   "cell_type": "code",
   "execution_count": null,
   "metadata": {},
   "outputs": [],
   "source": [
    "input = tot_0[rel_offset:]\n",
    "target = bt_0[:-rel_offset]\n",
    "\n",
    "# input = input[14*44100:27*44100]"
   ]
  },
  {
   "cell_type": "markdown",
   "metadata": {},
   "source": [
    "## Define data set"
   ]
  },
  {
   "cell_type": "code",
   "execution_count": null,
   "metadata": {},
   "outputs": [],
   "source": [
    "sample_size = 1024\n",
    "n_samples = 10240 * 4"
   ]
  },
  {
   "cell_type": "code",
   "execution_count": null,
   "metadata": {},
   "outputs": [],
   "source": [
    "x, y = create_training_data_set(n_samples, sample_size, input, target)"
   ]
  },
  {
   "cell_type": "code",
   "execution_count": null,
   "metadata": {},
   "outputs": [],
   "source": [
    "x, y = map(apply_fourier_on_dataset, (x, y))"
   ]
  },
  {
   "cell_type": "code",
   "execution_count": null,
   "metadata": {},
   "outputs": [],
   "source": [
    "input_shape = x[0].shape[0]\n",
    "output_shape = x[1].shape[0]"
   ]
  },
  {
   "cell_type": "code",
   "execution_count": null,
   "metadata": {},
   "outputs": [],
   "source": [
    "# https://blog.keras.io/building-autoencoders-in-keras.html\n",
    "\n",
    "from keras.layers import Dense, Dropout, PReLU, Input\n",
    "from keras.models import Model\n",
    "from keras.optimizers import Adam\n",
    "\n",
    "from keras.regularizers import l2\n",
    "from keras.models import load_model"
   ]
  },
  {
   "cell_type": "code",
   "execution_count": null,
   "metadata": {},
   "outputs": [],
   "source": [
    "regularizer_config = {} #'kernel_regularizer': l2(l=0),\n",
    "                      # 'bias_regularizer': l2(l=0)}\n",
    "model_name = \"vpk_ae.h5\""
   ]
  },
  {
   "cell_type": "code",
   "execution_count": null,
   "metadata": {},
   "outputs": [],
   "source": [
    "create_model = True\n",
    "if create_model:\n",
    "    encoding_dim = 50\n",
    "\n",
    "    # Encoder\n",
    "    input_ = Input((input_shape,))\n",
    "    _ = input_\n",
    "    _ = Dense(2000, **regularizer_config)(_)\n",
    "    _ = PReLU()(_)\n",
    "    _ = Dense(2000, activity_regularizer=l2(1e-5))(_)\n",
    "    _ = PReLU()(_)\n",
    "    # _ = Dropout(0.01)(_)\n",
    "    # _ = Dense(4000, **regularizer_config)(input_)\n",
    "    # _ = PReLU()(_)\n",
    "    # _ = Dropout(0.01)(_)\n",
    "    # _ = Dense(4000, **regularizer_config)(_)\n",
    "    # _ = PReLU()(_)\n",
    "    # _ = Dropout(0.01)(_)\n",
    "    encoded = Dense(encoding_dim)(_) # , activity_regularizer=l2(1e-4))(_)\n",
    "\n",
    "    # Decoder\n",
    "    _ = encoded\n",
    "    _ = PReLU()(_)\n",
    "    _ = Dense(2000, activity_regularizer=l2(1e-5))(_)\n",
    "    _ = PReLU()(_)\n",
    "    _ = Dense(2000, **regularizer_config)(_)\n",
    "    _ = PReLU()(_)\n",
    "    # _ = PReLU()(_)\n",
    "    # _ = Dropout(0.01)(_)\n",
    "    # _ = Dense(4000, **regularizer_config)(_)\n",
    "    # _ = Dropout(0.01)(_)\n",
    "    # _ = PReLU()(_)\n",
    "    # _ = Dense(4000, **regularizer_config)(_)\n",
    "    # _ = Dropout(0.01)(_)\n",
    "    # _ = PReLU()(_)\n",
    "    decoded = Dense(output_shape)(_)\n",
    "    model = Model(input_, decoded)\n",
    "\n",
    "    model.compile(Adam(lr=0.001), 'mse')\n",
    "else:\n",
    "    model = load_model(model_name)\n",
    "\n",
    "    # create a placeholder for an encoded (32-dimensional) input\n",
    "encoded_input = Input(shape=(encoding_dim,))\n",
    "decoder_layer = encoded_input\n",
    "# decoder_layer = model.layers[-10](encoded_input)\n",
    "# decoder_layer = model.layers[-9](decoder_layer)\n",
    "# decoder_layer = model.layers[-8](decoder_layer)\n",
    "# decoder_layer = model.layers[-7](decoder_layer)\n",
    "decoder_layer = model.layers[-6](decoder_layer)\n",
    "decoder_layer = model.layers[-5](decoder_layer)\n",
    "decoder_layer = model.layers[-4](decoder_layer)\n",
    "decoder_layer = model.layers[-3](decoder_layer)\n",
    "decoder_layer = model.layers[-2](decoder_layer)\n",
    "decoder_layer = model.layers[-1](decoder_layer)\n",
    "# create the decoder model\n",
    "decoder = Model(encoded_input, decoder_layer)"
   ]
  },
  {
   "cell_type": "code",
   "execution_count": null,
   "metadata": {},
   "outputs": [],
   "source": [
    "# play_array(model_predict(model, input, sample_size, rfft, irfft), do_wait_done=False, range_secs=[20, 24])"
   ]
  },
  {
   "cell_type": "code",
   "execution_count": null,
   "metadata": {},
   "outputs": [],
   "source": [
    "# prediction = model.predict(apply_fourier_on_input(input, sample_size))\n",
    "# prediction = parallel_apply_along_axis(irfft, 0, prediction).reshape(-1)"
   ]
  },
  {
   "cell_type": "code",
   "execution_count": null,
   "metadata": {},
   "outputs": [],
   "source": [
    "# play_array(prediction)\n",
    "max_duration = len(input) // 44100\n",
    "prev_loss = np.Infinity\n",
    "model.save(model_name)\n",
    "prev_losses = None"
   ]
  },
  {
   "cell_type": "code",
   "execution_count": null,
   "metadata": {},
   "outputs": [],
   "source": [
    "n_to_sample = len(x) // 5"
   ]
  },
  {
   "cell_type": "code",
   "execution_count": null,
   "metadata": {},
   "outputs": [],
   "source": [
    "import keras.backend as K"
   ]
  },
  {
   "cell_type": "code",
   "execution_count": null,
   "metadata": {},
   "outputs": [],
   "source": [
    "K.get_value(model.optimizer.lr)"
   ]
  },
  {
   "cell_type": "code",
   "execution_count": null,
   "metadata": {},
   "outputs": [],
   "source": [
    "while True:\n",
    "    print(f\"Current LR: {K.get_value(model.optimizer.lr)}\")\n",
    "    start = dt.datetime.now()\n",
    "\n",
    "    losses = 1 / (np.sum((model.predict(x) - x)**2, axis=1) + 1e-5)\n",
    "    \n",
    "    if prev_losses is not None:\n",
    "        loss_diff = (losses - prev_losses)**2\n",
    "        loss_diff_sig = loss_diff / np.mean(loss_diff)\n",
    "        p_choose = loss_diff_sig / np.sum(loss_diff_sig)\n",
    "    else:\n",
    "        print(\"Initializing p_choose...\")\n",
    "        p_choose = np.ones(shape=losses.shape)\n",
    "        p_choose /= np.sum(p_choose)\n",
    "        \n",
    "    prev_losses = losses\n",
    "    ix = np.random.choice(len(x), p=p_choose, size=n_to_sample, replace=False)\n",
    "\n",
    "    history = model.fit(x[ix], x[ix], epochs=4, verbose=1, batch_size=64) # shuffle=True, steps_per_epoch=64)\n",
    "\n",
    "    # Save model if improvement\n",
    "    if history.history['loss'][0] < prev_loss * 1.5:\n",
    "        model.save(model_name)\n",
    "        model.optimizer.lr = model.optimizer.lr * (1.01 if history.history['loss'][0] < prev_loss else 0.99)\n",
    "        prev_loss = history.history['loss'][0]\n",
    "    else:\n",
    "        print(\"Failed to find improvement. Loading previous model...\")\n",
    "        model = load_model(model_name)\n",
    "        model.optimizer.lr = 0.9*model.optimizer.lr\n",
    "        \n",
    "    \n",
    "    \n",
    "    # Make prediction\n",
    "    prediction = model_predict(model, input, sample_size, rfft, irfft)\n",
    "    time_taken = (dt.datetime.now() - start).seconds\n",
    "    # Play prediction\n",
    "    play_array(prediction, range_secs=[0, 0 + min(time_taken, max_duration - 1)], do_wait_done=False)"
   ]
  },
  {
   "cell_type": "code",
   "execution_count": null,
   "metadata": {},
   "outputs": [],
   "source": [
    "history.history['loss'][0]"
   ]
  },
  {
   "cell_type": "code",
   "execution_count": null,
   "metadata": {},
   "outputs": [],
   "source": [
    "# play_array(model_predict(model, input, sample_size), range_secs=[130, 130 + min(time_taken, 250)], do_wait_done=False)"
   ]
  },
  {
   "cell_type": "code",
   "execution_count": null,
   "metadata": {},
   "outputs": [],
   "source": [
    "# play_array(model_predict(model, input, sample_size), range_secs=[20, 24])  "
   ]
  },
  {
   "cell_type": "code",
   "execution_count": null,
   "metadata": {},
   "outputs": [],
   "source": [
    "# play_array(x[0], range_secs=[20,24])\n",
    "# play_array(target, range_secs=[20,24])"
   ]
  },
  {
   "cell_type": "markdown",
   "metadata": {},
   "source": [
    "## Test on different file"
   ]
  },
  {
   "cell_type": "code",
   "execution_count": null,
   "metadata": {},
   "outputs": [],
   "source": [
    "test = read_file(\"../data/Wasmachine_in_a_mineur_v5.wav\")\n",
    "prediction = model_predict(model, test, sample_size, rfft, irfft)\n",
    "play_array(prediction, range_secs=[0, 0 + min(time_taken, 60)], do_wait_done=False)"
   ]
  },
  {
   "cell_type": "code",
   "execution_count": null,
   "metadata": {},
   "outputs": [],
   "source": []
  },
  {
   "cell_type": "code",
   "execution_count": null,
   "metadata": {},
   "outputs": [],
   "source": []
  },
  {
   "cell_type": "code",
   "execution_count": null,
   "metadata": {},
   "outputs": [],
   "source": []
  },
  {
   "cell_type": "code",
   "execution_count": null,
   "metadata": {},
   "outputs": [],
   "source": [
    "encoder = Model(input_, encoded)\n",
    "pred = encoder.predict(apply_fourier_on_input(input, sample_size))"
   ]
  },
  {
   "cell_type": "code",
   "execution_count": null,
   "metadata": {},
   "outputs": [],
   "source": [
    "import pandas as pd"
   ]
  },
  {
   "cell_type": "code",
   "execution_count": null,
   "metadata": {},
   "outputs": [],
   "source": [
    "pd.Series(pred.reshape(-1)).hist(bins=51, range=[-2, 2])"
   ]
  },
  {
   "cell_type": "code",
   "execution_count": null,
   "metadata": {},
   "outputs": [],
   "source": [
    "# percentiles = np.percentile(pred, 0, axis=1)\n",
    "# pred = np.array([np.where(x > p, x, 0) for x, p in zip(pred, percentiles)])"
   ]
  },
  {
   "cell_type": "code",
   "execution_count": null,
   "metadata": {},
   "outputs": [],
   "source": [
    "pred = decoder_predict(decoder, pred, irfft)\n",
    "pred -= np.mean(pred)"
   ]
  },
  {
   "cell_type": "code",
   "execution_count": null,
   "metadata": {},
   "outputs": [],
   "source": [
    "play_array(pred, range_secs=[10,20])"
   ]
  },
  {
   "cell_type": "code",
   "execution_count": null,
   "metadata": {},
   "outputs": [],
   "source": []
  },
  {
   "cell_type": "code",
   "execution_count": null,
   "metadata": {},
   "outputs": [],
   "source": [
    "%matplotlib inline\n",
    "\n",
    "from mpl_toolkits.mplot3d import Axes3D\n",
    "fig = plt.figure()\n",
    "ax = fig.add_subplot(111, projection='3d')\n",
    "ax.plot(np.arange(0, len(pred)), pred[:, 0], pred[:, 1])"
   ]
  },
  {
   "cell_type": "code",
   "execution_count": null,
   "metadata": {},
   "outputs": [],
   "source": [
    "# _ = model.predict(apply_fourier_on_input(input, sample_size))\n",
    "# play_array(parallel_apply_along_axis(irfft, 0, _).reshape(-1), range_secs=[0,60])"
   ]
  },
  {
   "cell_type": "code",
   "execution_count": null,
   "metadata": {},
   "outputs": [],
   "source": [
    "decoder.predict(x_enc).shape"
   ]
  },
  {
   "cell_type": "code",
   "execution_count": null,
   "metadata": {},
   "outputs": [],
   "source": [
    "x_enc = np.zeros(shape=(10, encoding_dim))\n",
    "\n",
    "# x_enc = np.array([np.sin(np.arange(0, 2000) / 40) for x in range(0, 10)])\n",
    "\n",
    "pred = decoder_predict(decoder, x_enc, irfft)\n",
    "\n",
    "pred -= np.mean(pred)\n",
    "pred /= (np.percentile(pred, 95) - np.percentile(pred, 5)) * 2"
   ]
  },
  {
   "cell_type": "code",
   "execution_count": null,
   "metadata": {},
   "outputs": [],
   "source": [
    "plt.plot(pred)"
   ]
  },
  {
   "cell_type": "code",
   "execution_count": null,
   "metadata": {},
   "outputs": [],
   "source": [
    "play_array(pred)"
   ]
  },
  {
   "cell_type": "code",
   "execution_count": null,
   "metadata": {},
   "outputs": [],
   "source": [
    "\n"
   ]
  }
 ],
 "metadata": {
  "kernelspec": {
   "display_name": "Python 3",
   "language": "python",
   "name": "python3"
  },
  "language_info": {
   "codemirror_mode": {
    "name": "ipython",
    "version": 3
   },
   "file_extension": ".py",
   "mimetype": "text/x-python",
   "name": "python",
   "nbconvert_exporter": "python",
   "pygments_lexer": "ipython3",
   "version": "3.6.3"
  }
 },
 "nbformat": 4,
 "nbformat_minor": 2
}
